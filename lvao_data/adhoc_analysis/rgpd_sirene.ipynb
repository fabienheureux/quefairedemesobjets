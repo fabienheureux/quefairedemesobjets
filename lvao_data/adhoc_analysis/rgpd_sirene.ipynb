{
 "cells": [
  {
   "cell_type": "markdown",
   "id": "ace017e4-6cfb-44e0-ba2c-81688f6b018e",
   "metadata": {},
   "source": [
    "# Détection des Violations RGPD dans les Données des Acteurs LVAO\n",
    "\n",
    "Ce notebook a pour objectif de détecter les violations du RGPD dans les données d'acteurs de LVAO et de mettre à jour la table PostgreSQL `qfdmo_revisionacteur` en conséquence.\n",
    "\n",
    "## Sources des Données\n",
    "\n",
    "Les données utilisées dans ce notebook proviennent de deux sources principales :\n",
    "\n",
    "### Sources Sirene\n",
    "\n",
    "La base Sirene des entreprises est accessible via [data.gouv.fr](https://www.data.gouv.fr/fr/datasets/base-sirene-des-entreprises-et-de-leurs-etablissements-siren-siret/). Les fichiers suivants sont utilisés :\n",
    "\n",
    "- `StockUniteLegale_utf8` : Contient les informations légales sur les unités légales.\n",
    "- `StockEtablissement_utf8` : Contient les informations sur les établissements.\n",
    "\n",
    "### Sources LVAO\n",
    "\n",
    "Les données d'acteurs LVAO sont extraites de la table suivante :\n",
    "\n",
    "- `qfdmo_finalacteur` : Table contenant les données finales des acteurs.\n",
    "\n",
    "## Objectif\n",
    "\n",
    "L'objectif de ce notebook est de réaliser les opérations suivantes :\n",
    "\n",
    "1. Charger et Enrichir les données d'acteurs des données provenant des sources Sirene.\n",
    "2. Filter sur label_reparacteur==False & statut=='ACTIF' & 'source_id'==4\n",
    "3. Identifier les éventuelles violations du RGPD dans ces données\n",
    "4. Identifier l'existence d'un nom légal alternatif\n",
    "5. Générer un fichier CSV avec le schéma de la table `qfdmo_revisionacteur`.\n"
   ]
  },
  {
   "cell_type": "markdown",
   "id": "e36e4f74-0968-476e-9233-51ca511455bd",
   "metadata": {},
   "source": [
    "Télécharger la derniere version de StockUniteLegale et StockEtablissement sur [data.gouv.fr](https://www.data.gouv.fr/fr/datasets/base-sirene-des-entreprises-et-de-leurs-etablissements-siren-siret/)"
   ]
  },
  {
   "cell_type": "code",
   "execution_count": 29,
   "id": "58912bba-8843-429b-a416-624b0b9b34ba",
   "metadata": {},
   "outputs": [],
   "source": [
    "stock_unite_legale = \"/Users/hamzaa/data/quefairedemesobjets/StockUniteLegale_utf8.csv\"\n",
    "stock_etablissement = \"/Users/hamzaa/data/quefairedemesobjets/StockEtablissement_utf8.csv\""
   ]
  },
  {
   "cell_type": "code",
   "execution_count": 30,
   "id": "eb7efa19-a9fe-498f-92f5-3f42e572f008",
   "metadata": {},
   "outputs": [
    {
     "name": "stdout",
     "output_type": "stream",
     "text": [
      "Requirement already satisfied: ratelimiter in ./venv/lib/python3.9/site-packages (1.2.0.post0)\n",
      "\n",
      "\u001b[1m[\u001b[0m\u001b[34;49mnotice\u001b[0m\u001b[1;39;49m]\u001b[0m\u001b[39;49m A new release of pip is available: \u001b[0m\u001b[31;49m23.3.2\u001b[0m\u001b[39;49m -> \u001b[0m\u001b[32;49m24.0\u001b[0m\n",
      "\u001b[1m[\u001b[0m\u001b[34;49mnotice\u001b[0m\u001b[1;39;49m]\u001b[0m\u001b[39;49m To update, run: \u001b[0m\u001b[32;49mpip install --upgrade pip\u001b[0m\n"
     ]
    }
   ],
   "source": [
    "!pip install ratelimiter"
   ]
  },
  {
   "cell_type": "code",
   "execution_count": 31,
   "id": "4856f1e5-e808-44bd-ab4a-bce384f23333",
   "metadata": {},
   "outputs": [],
   "source": [
    "import pandas as pd\n",
    "import re\n",
    "from sqlalchemy import create_engine\n",
    "from decouple import config\n"
   ]
  },
  {
   "cell_type": "code",
   "execution_count": 32,
   "id": "c26acd50-bf69-4fe0-a7d7-e62d8b7359b1",
   "metadata": {},
   "outputs": [],
   "source": [
    "from ratelimiter import RateLimiter\n",
    "\n",
    "@RateLimiter(max_calls=7, period=1)\n",
    "def call_annuaire_entreprises(siren):\n",
    "    params = {\n",
    "        'q': siren\n",
    "    }\n",
    "    base_url = 'https://recherche-entreprises.api.gouv.fr'\n",
    "    endpoint = '/search'\n",
    "\n",
    "    try:\n",
    "        response = requests.get(url=f'{base_url}{endpoint}', params=params)\n",
    "\n",
    "        if response.status_code == 200:\n",
    "            data = response.json()\n",
    "            # Vérifiez si 'results' existe et contient au moins un élément\n",
    "            if data.get('results') and len(data['results']) > 0:\n",
    "                dirigeants = data['results'][0].get('dirigeants', [])\n",
    "                noms = [dir['nom'] for dir in dirigeants if 'nom' in dir and dir.get('type_dirigeant') == 'personne physique']\n",
    "                return noms\n",
    "            else:\n",
    "                return []\n",
    "        else:\n",
    "            return []\n",
    "    except requests.exceptions.RequestException as e:\n",
    "        # Gérer les exceptions liées aux requêtes\n",
    "        print(f'Une erreur est survenue lors de la requête: {e}')\n",
    "        return ['Une erreur de requête est survenue']\n",
    "\n",
    "def check_rgpd_violation(row):\n",
    "    # Check for non-null values first to avoid errors\n",
    "    if pd.notnull(row['nomUniteLegale']) and pd.notnull(row['nom']) and pd.notnull(row['statutDiffusionUniteLegale']):\n",
    "        names_to_check = [row['nomUniteLegale']]\n",
    "        if pd.notnull(row['nomUsageUniteLegale']):\n",
    "            names_to_check.append(row['nomUsageUniteLegale'])\n",
    "        \n",
    "        pattern = r'\\b(' + r'|'.join(re.escape(name) for name in names_to_check) + r')\\b'\n",
    "        name_match = bool(re.search(pattern, row['nom'], re.IGNORECASE))\n",
    "        return name_match \n",
    "    else:\n",
    "        return False\n",
    "\n",
    "\n",
    "\n",
    "def check_rgpd_violation_using_annuaire_entreprise(row):\n",
    "    names_to_check = call_annuaire_entreprises(row['siren'])\n",
    "    if pd.notnull(row['nom']) and names_to_check:\n",
    "        pattern = r'\\b(' + r'|'.join(re.escape(name) for name in names_to_check) + r')\\b'\n",
    "        name_match = bool(re.search(pattern, row['nom'], re.IGNORECASE))\n",
    "        return name_match \n",
    "    else:\n",
    "        return False\n",
    "\n",
    "\n",
    "def split_dataframe_into_batches(df, batch_size=10000):\n",
    "    num_rows = df.shape[0]\n",
    "    num_batches = (num_rows + batch_size - 1) // batch_size  # Calculate the number of batches needed\n",
    "    batches = [df[i*batch_size:(i+1)*batch_size] for i in range(num_batches)]\n",
    "    return batches\n",
    "\n",
    "\n",
    "\n",
    "def check_alternative_legal_name(row):\n",
    "    old_state = row['rgpd_violation']\n",
    "    if pd.notnull(row['denominationUsuelle1UniteLegale']) and pd.notnull(row['nomUniteLegale']) and pd.notnull(row['statutDiffusionUniteLegale']):\n",
    "        pattern2 =  r'\\b' + re.escape(str(row['denominationUsuelle1UniteLegale'])) + r'\\b'\n",
    "        name_match = bool(re.search(pattern2, row['nomUniteLegale'], re.IGNORECASE))\n",
    "        if old_state==True:\n",
    "            if name_match==False:\n",
    "                return name_match\n",
    "        return old_state\n",
    "    else:\n",
    "        return old_state"
   ]
  },
  {
   "cell_type": "code",
   "execution_count": 33,
   "id": "60910787-8eab-4a16-80d3-f98ba9f411cd",
   "metadata": {},
   "outputs": [],
   "source": [
    "# create prod engine\n",
    "connection_string_prod = f'postgresql://{user}:{password}@{host}:{port}/{db_name}'\n",
    "engine_prod = create_engine(connection_string_prod)"
   ]
  },
  {
   "cell_type": "code",
   "execution_count": 34,
   "id": "2b0d056f-9918-45cc-aa59-e6c5d8043843",
   "metadata": {},
   "outputs": [
    {
     "name": "stderr",
     "output_type": "stream",
     "text": [
      "/var/folders/0b/ssm8dl5n5td_t_2lb_8qn6500000gn/T/ipykernel_5995/2746981125.py:2: DtypeWarning: Columns (2,4,5,6,7,8,9,10,11,12,13,17,21,22,24,25,26) have mixed types. Specify dtype option on import or set low_memory=False.\n",
      "  df_unite_legale = pd.read_csv(stock_unite_legale)\n",
      "/var/folders/0b/ssm8dl5n5td_t_2lb_8qn6500000gn/T/ipykernel_5995/2746981125.py:3: DtypeWarning: Columns (5,7,12,16,18,20,21,24,25,26,27,28,29,30,31,33,34,35,36,38,42,43,44) have mixed types. Specify dtype option on import or set low_memory=False.\n",
      "  df_etab = pd.read_csv(stock_etablissement)\n",
      "/Users/hamzaa/data/quefairedemesobjets/venv/lib/python3.9/site-packages/pandas/io/sql.py:1665: SAWarning: Did not recognize type 'geometry' of column 'location'\n",
      "  self.meta.reflect(bind=self.con, only=[table_name], views=True)\n"
     ]
    }
   ],
   "source": [
    "#load sources\n",
    "df_unite_legale = pd.read_csv(stock_unite_legale)\n",
    "df_etab = pd.read_csv(stock_etablissement)\n",
    "df_final_acteur = pd.read_sql_table('qfdmo_finalacteur', engine_prod)\n"
   ]
  },
  {
   "cell_type": "code",
   "execution_count": 35,
   "id": "5e5dd352-7c46-4c0e-8caa-7c1b4c1d2005",
   "metadata": {},
   "outputs": [],
   "source": [
    "df_filtered = df_final_acteur[(df_final_acteur['label_reparacteur']==False) & (df_final_acteur['statut']=='ACTIF') & (df_final_acteur['source_id']==4) ]"
   ]
  },
  {
   "cell_type": "code",
   "execution_count": 36,
   "id": "2285120d-df33-403d-9009-492ae73ef31f",
   "metadata": {},
   "outputs": [
    {
     "name": "stderr",
     "output_type": "stream",
     "text": [
      "/var/folders/0b/ssm8dl5n5td_t_2lb_8qn6500000gn/T/ipykernel_5995/1345952353.py:1: SettingWithCopyWarning: \n",
      "A value is trying to be set on a copy of a slice from a DataFrame.\n",
      "Try using .loc[row_indexer,col_indexer] = value instead\n",
      "\n",
      "See the caveats in the documentation: https://pandas.pydata.org/pandas-docs/stable/user_guide/indexing.html#returning-a-view-versus-a-copy\n",
      "  df_filtered['siret'] = df_filtered['siret'].astype(str)\n"
     ]
    }
   ],
   "source": [
    "df_filtered['siret'] = df_filtered['siret'].astype(str)\n",
    "df_etab['siret'] = df_etab['siret'].astype(str)"
   ]
  },
  {
   "cell_type": "code",
   "execution_count": 37,
   "id": "5d0fb4dd-e8b0-4181-bce6-0e959346fef9",
   "metadata": {},
   "outputs": [],
   "source": [
    "df_merge = pd.merge(df_filtered, df_etab[['siren','siret']],on=['siret'])"
   ]
  },
  {
   "cell_type": "code",
   "execution_count": 38,
   "id": "30f6eac5-53bd-4bbc-b6af-0b27e94e457c",
   "metadata": {},
   "outputs": [],
   "source": [
    "df_sirene = pd.merge(df_merge,df_unite_legale[['siren','denominationUsuelle1UniteLegale','statutDiffusionUniteLegale',\n",
    "       'prenom1UniteLegale', 'prenom2UniteLegale', 'prenom3UniteLegale',\n",
    "       'prenom4UniteLegale', 'prenomUsuelUniteLegale', \n",
    "       'nomUniteLegale', 'nomUsageUniteLegale',\n",
    "       'caractereEmployeurUniteLegale']], on = ['siren'])"
   ]
  },
  {
   "cell_type": "code",
   "execution_count": 39,
   "id": "4daa9565-eb48-49bf-8478-ee9189ff7c44",
   "metadata": {},
   "outputs": [
    {
     "name": "stderr",
     "output_type": "stream",
     "text": [
      "/var/folders/0b/ssm8dl5n5td_t_2lb_8qn6500000gn/T/ipykernel_5995/795525349.py:5: FutureWarning: Setting an item of incompatible dtype is deprecated and will raise in a future error of pandas. Value 'True' has dtype incompatible with float64, please explicitly cast to a compatible dtype first.\n",
      "  df_sirene.loc[(df_sirene['rgpd_violation'] == True) & (df_sirene['check_alternative_legal_name'] == False), 'name_change'] = True\n"
     ]
    }
   ],
   "source": [
    "# Apply the function across the rows to check for RGPD violations\n",
    "df_sirene['rgpd_violation'] = df_sirene.apply(check_rgpd_violation, axis=1)\n",
    "df_sirene['check_alternative_legal_name'] = df_sirene.apply(check_alternative_legal_name, axis=1)\n",
    "df_sirene.loc[(df_sirene['rgpd_violation']==True) & (df_sirene['check_alternative_legal_name']==False), 'nom'] = df_sirene['denominationUsuelle1UniteLegale']\n",
    "df_sirene.loc[(df_sirene['rgpd_violation'] == True) & (df_sirene['check_alternative_legal_name'] == False), 'name_change'] = True\n",
    "df_sirene.loc[(df_sirene['rgpd_violation'] == True) & (df_sirene['check_alternative_legal_name'] == False), 'rgpd_violation'] = False\n",
    "df_sirene = df_sirene[df_sirene['statutDiffusionUniteLegale'] != 'P']"
   ]
  },
  {
   "cell_type": "code",
   "execution_count": 40,
   "id": "28215bf2-fa80-454d-88e1-2793d1dc1266",
   "metadata": {},
   "outputs": [],
   "source": [
    "cols = df_final_acteur.columns.tolist()\n",
    "df_sirene.loc[(df_sirene['rgpd_violation']==True),'statut']=\"SUPPRIME\""
   ]
  },
  {
   "cell_type": "markdown",
   "id": "453d16cf-6c1e-4978-aa56-9cd12f3ab399",
   "metadata": {},
   "source": [
    "### Annuaire entreprise RGPD check"
   ]
  },
  {
   "cell_type": "code",
   "execution_count": 42,
   "id": "09c23abf-e9ad-4765-8fe5-77380e85d41f",
   "metadata": {},
   "outputs": [
    {
     "name": "stderr",
     "output_type": "stream",
     "text": [
      "/var/folders/0b/ssm8dl5n5td_t_2lb_8qn6500000gn/T/ipykernel_5995/675051470.py:3: SettingWithCopyWarning: \n",
      "A value is trying to be set on a copy of a slice from a DataFrame.\n",
      "Try using .loc[row_indexer,col_indexer] = value instead\n",
      "\n",
      "See the caveats in the documentation: https://pandas.pydata.org/pandas-docs/stable/user_guide/indexing.html#returning-a-view-versus-a-copy\n",
      "  actors_to_check['rgpd_violation_ae'] = actors_to_check.apply(check_rgpd_violation_using_annuaire_entreprise, axis=1)\n"
     ]
    }
   ],
   "source": [
    "actors_to_check = df_sirene[df_sirene['nomUniteLegale'].isnull()]\n",
    "\n",
    "actors_to_check['rgpd_violation_ae'] = actors_to_check.apply(check_rgpd_violation_using_annuaire_entreprise, axis=1)\n"
   ]
  },
  {
   "cell_type": "code",
   "execution_count": 50,
   "id": "c84c2d21-3cb7-41d6-8345-e0b9a11992d6",
   "metadata": {},
   "outputs": [],
   "source": [
    "actors_to_check.to_csv('rpg_violation_annuaire_entreprise_25032024.csv')"
   ]
  },
  {
   "cell_type": "code",
   "execution_count": null,
   "id": "ed7b35cc-99bf-4b49-9c9b-81c715d93af6",
   "metadata": {},
   "outputs": [],
   "source": [
    "df_sirene[cols].loc[(df_sirene['rgpd_violation']==True)].to_csv('rgpd_violation_lvao_actors_13032024.csv')\n",
    "df_sirene[cols].loc[(df_sirene['rgpd_violation']==True)]"
   ]
  },
  {
   "cell_type": "markdown",
   "id": "79dee2c7-cf9f-4635-8791-63e3697ce967",
   "metadata": {},
   "source": [
    "### Write to PostgreSql to revision acteur table"
   ]
  },
  {
   "cell_type": "code",
   "execution_count": 56,
   "id": "7d140dc7-6950-4c26-9340-7747c986645b",
   "metadata": {},
   "outputs": [],
   "source": [
    "import psycopg2\n",
    "from psycopg2 import sql\n",
    "# Access variables in .env\n"
   ]
  },
  {
   "cell_type": "code",
   "execution_count": null,
   "id": "07e6f04d-16df-40ab-8862-79c0af4ac882",
   "metadata": {},
   "outputs": [],
   "source": [
    "\n",
    "conn = psycopg2.connect(\n",
    "    dbname=db_name, \n",
    "    user=user, \n",
    "    password=password, \n",
    "    host=host,\n",
    "    port=port\n",
    ")\n",
    "conn.autocommit = True\n",
    "cursor = conn.cursor()\n",
    "\n",
    "for index, row in df_sirene.loc[df_sirene['rgpd_violation'] == True].iterrows():\n",
    "    query = sql.SQL(\"UPDATE qfdmo_revisionacteur SET nom = %s, statut = %s WHERE identifiant_unique = %s;\")\n",
    "    cursor.execute(query, (row['nom'], row['statut'], row['identifiant_unique']))\n",
    "\n",
    "cursor.close()\n",
    "conn.close()"
   ]
  },
  {
   "cell_type": "code",
   "execution_count": 55,
   "id": "bf13993c-1385-4ea3-89d7-57f9512b097f",
   "metadata": {},
   "outputs": [],
   "source": [
    "\n",
    "conn = psycopg2.connect(\n",
    "    dbname=db_name, \n",
    "    user=user, \n",
    "    password=password, \n",
    "    host=host,\n",
    "    port=port\n",
    ")\n",
    "conn.autocommit = True\n",
    "cursor = conn.cursor()\n",
    "\n",
    "for index, row in actors_to_check.loc[actors_to_check['rgpd_violation_ae'] == True].iterrows():\n",
    "    query = sql.SQL(\"UPDATE qfdmo_revisionacteur SET statut = %s WHERE identifiant_unique = %s;\")\n",
    "    cursor.execute(query, (row['statut'], row['identifiant_unique']))\n",
    "\n",
    "cursor.close()\n",
    "conn.close()"
   ]
  },
  {
   "cell_type": "code",
   "execution_count": null,
   "id": "94fc2e51-7ce3-4110-b5fa-0af821a8e2ac",
   "metadata": {},
   "outputs": [],
   "source": []
  }
 ],
 "metadata": {
  "kernelspec": {
   "display_name": "Python 3 (ipykernel)",
   "language": "python",
   "name": "python3"
  },
  "language_info": {
   "codemirror_mode": {
    "name": "ipython",
    "version": 3
   },
   "file_extension": ".py",
   "mimetype": "text/x-python",
   "name": "python",
   "nbconvert_exporter": "python",
   "pygments_lexer": "ipython3",
   "version": "3.9.6"
  }
 },
 "nbformat": 4,
 "nbformat_minor": 5
}
